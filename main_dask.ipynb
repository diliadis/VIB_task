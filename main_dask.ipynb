{
 "cells": [
  {
   "cell_type": "code",
   "execution_count": 9,
   "metadata": {},
   "outputs": [
    {
     "name": "stderr",
     "output_type": "stream",
     "text": [
      "/Users/diliadis/opt/anaconda3/envs/vib_env/lib/python3.11/site-packages/distributed/node.py:182: UserWarning: Port 8787 is already in use.\n",
      "Perhaps you already have a cluster running?\n",
      "Hosting the HTTP server on port 55578 instead\n",
      "  warnings.warn(\n"
     ]
    },
    {
     "name": "stdout",
     "output_type": "stream",
     "text": [
      "Computing fingerprints... Done\n",
      "Computing pairs... Done\n",
      "Computing partitions... Done\n",
      "Computing... "
     ]
    },
    {
     "name": "stderr",
     "output_type": "stream",
     "text": [
      "/Users/diliadis/opt/anaconda3/envs/vib_env/lib/python3.11/site-packages/distributed/client.py:3161: UserWarning: Sending large graph of size 68.87 MiB.\n",
      "This may cause some slowdown.\n",
      "Consider scattering data ahead of time and using futures.\n",
      "  warnings.warn(\n"
     ]
    },
    {
     "name": "stdout",
     "output_type": "stream",
     "text": [
      "Done\n"
     ]
    }
   ],
   "source": [
    "import pandas as pd\n",
    "from dask.distributed import Client, LocalCluster\n",
    "import dask.dataframe as dd\n",
    "from rdkit import Chem\n",
    "from rdkit.Chem import AllChem, DataStructs\n",
    "import itertools\n",
    "import dask\n",
    "\n",
    "# Initialize a Dask LocalCluster with a specified number of workers\n",
    "cluster = LocalCluster(n_workers=4, threads_per_worker=1)\n",
    "client = Client(cluster)\n",
    "\n",
    "# Load dataset\n",
    "data = pd.read_csv('compounds.csv')\n",
    "\n",
    "# Function to compute molecular fingerprint from SMILES\n",
    "def compute_fingerprint(smiles):\n",
    "    try:\n",
    "        mol = Chem.MolFromSmiles(smiles)\n",
    "        return AllChem.GetMorganFingerprintAsBitVect(mol, 2, nBits=2048)\n",
    "    except:\n",
    "        return None\n",
    "\n",
    "print('Computing fingerprints...', end=' ')\n",
    "# Compute fingerprints for all compounds\n",
    "data['fingerprint'] = data['canonical_smiles'].apply(compute_fingerprint)\n",
    "print('Done')\n",
    "\n",
    "# Drop rows with None fingerprintsxw\n",
    "data = data.dropna(subset=['fingerprint'])\n",
    "\n",
    "# Convert to Dask DataFrame\n",
    "ddf = dd.from_pandas(data, npartitions=4)\n",
    "\n",
    "# Create a DataFrame of all pairwise combinations\n",
    "print('Computing pairs...', end=' ')\n",
    "pairs = pd.DataFrame(list(itertools.combinations(range(len(data)), 2)), columns=['i', 'j'])\n",
    "pairs_ddf = dd.from_pandas(pairs, npartitions=4)\n",
    "print('Done')\n",
    "\n",
    "# Function to compute Tanimoto similarity for a pair\n",
    "def compute_similarity(df, fingerprints):\n",
    "    df['similarity'] = df.apply(lambda row: DataStructs.TanimotoSimilarity(\n",
    "        fingerprints[row['i']], fingerprints[row['j']]), axis=1)\n",
    "    return df\n",
    "\n",
    "# Compute similarities in parallel\n",
    "fingerprints = data['fingerprint'].tolist()\n",
    "print('Computing partitions...', end=' ')\n",
    "results_ddf = pairs_ddf.map_partitions(compute_similarity, fingerprints=fingerprints, meta={'i': int, 'j': int, 'similarity': float})\n",
    "print('Done')\n",
    "\n",
    "# Compute and collect the results\n",
    "print('Computing...', end=' ')\n",
    "results = results_ddf.compute()\n",
    "print('Done')\n",
    "\n",
    "# Extract the top-10 most similar pairs\n",
    "top_10_similar = results.nlargest(10, 'similarity')\n"
   ]
  },
  {
   "cell_type": "code",
   "execution_count": 10,
   "metadata": {},
   "outputs": [
    {
     "name": "stdout",
     "output_type": "stream",
     "text": [
      "(CHEMBL1185564, CHEMBL1180303, 1.0)\n",
      "(CHEMBL3211084, CHEMBL1219O, 1.0)\n",
      "(CHEMBL3659481, CHEMBL4115592, 0.8703703703703703)\n",
      "(CHEMBL1957077, CHEMBL1957074, 0.8666666666666667)\n",
      "(CHEMBL3263726, CHEMBL3263727, 0.8620689655172413)\n",
      "(CHEMBL3895991, CHEMBL3978459, 0.8428571428571429)\n",
      "(CHEMBL2177932, CHEMBL2177959, 0.8378378378378378)\n",
      "(CHEMBL1077552, CHEMBL2332107, 0.8311688311688312)\n",
      "(CHEMBL108931, CHEMBL432621, 0.8305084745762712)\n",
      "(CHEMBL3649850, CHEMBL3649871, 0.797752808988764)\n"
     ]
    }
   ],
   "source": [
    "for index, row in top_10_similar.iterrows():\n",
    "    # print('index: ', str(index))\n",
    "    # print('row: ', str(row))\n",
    "    print('('+data.iloc[int(row['i'])]['chembl_id']+', '+data.iloc[int(row['j'])]['chembl_id']+', '+str(row['similarity'])+')')"
   ]
  },
  {
   "cell_type": "code",
   "execution_count": null,
   "metadata": {},
   "outputs": [],
   "source": []
  }
 ],
 "metadata": {
  "kernelspec": {
   "display_name": "test_env",
   "language": "python",
   "name": "python3"
  },
  "language_info": {
   "codemirror_mode": {
    "name": "ipython",
    "version": 3
   },
   "file_extension": ".py",
   "mimetype": "text/x-python",
   "name": "python",
   "nbconvert_exporter": "python",
   "pygments_lexer": "ipython3",
   "version": "3.11.9"
  }
 },
 "nbformat": 4,
 "nbformat_minor": 2
}
